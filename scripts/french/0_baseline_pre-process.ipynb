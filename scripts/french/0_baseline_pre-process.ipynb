{
 "cells": [
  {
   "cell_type": "code",
   "execution_count": 2,
   "metadata": {
    "collapsed": true
   },
   "outputs": [],
   "source": [
    "import tarfile\n",
    "import wget\n",
    "import sys\n",
    "from pathlib import Path\n",
    "\n",
    "# local imports\n",
    "sys.path.append(str(Path().resolve().parent))\n",
    "from python.definitions import *\n",
    "from python.utils import *\n",
    "\n",
    "files = [\n",
    "    \"http://www.statmt.org/wmt13/training-parallel-europarl-v7.tgz\",\n",
    "    \"http://www.statmt.org/wmt13/training-parallel-commoncrawl.tgz\",\n",
    "    \"http://www.statmt.org/wmt13/training-parallel-un.tgz\",\n",
    "    \"http://www.statmt.org/wmt15/training-parallel-nc-v10.tgz\",\n",
    "    \"http://www.statmt.org/wmt10/training-giga-fren.tar\",\n",
    "    \"http://www.statmt.org/wmt13/dev.tgz\"\n",
    "]\n",
    "\n",
    "FRENCH_DATA_DIR.mkdir(parents=True, exist_ok=True)"
   ]
  },
  {
   "cell_type": "code",
   "execution_count": null,
   "outputs": [
    {
     "name": "stdout",
     "output_type": "stream",
     "text": [
      "downloading http://www.statmt.org/wmt13/training-parallel-europarl-v7.tgz\n",
      "downloading http://www.statmt.org/wmt13/training-parallel-commoncrawl.tgz\n",
      "downloading http://www.statmt.org/wmt13/training-parallel-un.tgz\n"
     ]
    }
   ],
   "source": [
    "# Download french corpus\n",
    "for file in files:\n",
    "    print(f'downloading {file}')\n",
    "    wget.download(file, out=str(FRENCH_DATA_DIR))"
   ],
   "metadata": {
    "collapsed": false,
    "pycharm": {
     "name": "#%%\n",
     "is_executing": true
    }
   }
  },
  {
   "cell_type": "code",
   "execution_count": 3,
   "outputs": [
    {
     "name": "stdout",
     "output_type": "stream",
     "text": [
      "extracting news-commentary-v10.fr-en.en\n",
      "extracting news-commentary-v10.fr-en.fr\n"
     ]
    }
   ],
   "source": [
    "# unzip\n",
    "zip_files = map(lambda x: FRENCH_DATA_DIR / Path(x).name, files)\n",
    "\n",
    "for file in zip_files:\n",
    "    t_file = tarfile.open(str(file))\n",
    "    for member in t_file.getmembers():\n",
    "        if any(s in member.name for s in ('fr-en', 'en-fr', 'fren', 'enfr', 'newstest2012-ref.fr.sgm', 'newstest2012-src.en.sgm')):\n",
    "            print(f'extracting {member.name}')\n",
    "            t_file.extract(member, path=str(file.parent))\n",
    "\n",
    "for file in FRENCH_DATA_DIR.glob('*.gz'):\n",
    "    gunzip(str(file), '-f')\n",
    "\n",
    "for file in FRENCH_DATA_DIR.rglob('*.sgm'):\n",
    "    out_file = FRENCH_DATA_DIR / f'develop.{str(file).split(\".\")[-2].lower()}'\n",
    "    ! {MOSES_SGM} < {file} > {out_file}"
   ],
   "metadata": {
    "collapsed": false,
    "pycharm": {
     "name": "#%%\n"
    }
   }
  },
  {
   "cell_type": "code",
   "execution_count": 6,
   "outputs": [
    {
     "name": "stdout",
     "output_type": "stream",
     "text": [
      "normalizing file ending: giga-fren.release2.fixed.en\n",
      "normalizing file ending: commoncrawl.fr-en.en\n",
      "normalizing file ending: develop.en\n",
      "normalizing file ending: news-commentary-v10.fr-en.en\n",
      "normalizing file ending: undoc.2000.fr-en.en\n",
      "normalizing file ending: europarl-v7.fr-en.en\n",
      "normalizing file ending: commoncrawl.fr-en.fr\n",
      "normalizing file ending: giga-fren.release2.fixed.fr\n",
      "normalizing file ending: news-commentary-v10.fr-en.fr\n",
      "normalizing file ending: develop.fr\n",
      "normalizing file ending: undoc.2000.fr-en.fr\n",
      "normalizing file ending: europarl-v7.fr-en.fr\n",
      "concatenating: commoncrawl.fr-en.en\n",
      "3244152\n",
      "concatenating: europarl-v7.fr-en.en\n",
      "2007723\n",
      "concatenating: giga-fren.release2.fixed.en\n",
      "22520376\n",
      "concatenating: news-commentary-v10.fr-en.en\n",
      "200239\n",
      "concatenating: undoc.2000.fr-en.en\n",
      "12886831\n",
      "concatenating: commoncrawl.fr-en.fr\n",
      "3244152\n",
      "concatenating: europarl-v7.fr-en.fr\n",
      "2007723\n",
      "concatenating: giga-fren.release2.fixed.fr\n",
      "22520376\n",
      "concatenating: news-commentary-v10.fr-en.fr\n",
      "200239\n",
      "concatenating: undoc.2000.fr-en.fr\n",
      "12886831\n"
     ]
    }
   ],
   "source": [
    "# Convert to LF line endings\n",
    "def norm_endings_lang(lang):\n",
    "    for file in FRENCH_DATA_DIR.glob('**/*.' + lang):\n",
    "        print(f'normalizing line ending: {file.name}')\n",
    "        normalize_line_ending(file)\n",
    "\n",
    "norm_endings_lang('en')\n",
    "norm_endings_lang('fr')"
   ],
   "metadata": {
    "collapsed": false,
    "pycharm": {
     "name": "#%%\n"
    }
   }
  },
  {
   "cell_type": "code",
   "execution_count": 4,
   "outputs": [
    {
     "name": "stdout",
     "output_type": "stream",
     "text": [
      "concatenating: /home/TILDE.LV/arturs.stafanovics/gender-bias/data/fr/commoncrawl.fr-en.en\n",
      "concatenating: /home/TILDE.LV/arturs.stafanovics/gender-bias/data/fr/giga-fren.release2.fixed.en\n",
      "concatenating: /home/TILDE.LV/arturs.stafanovics/gender-bias/data/fr/news-commentary-v10.fr-en.en\n",
      "concatenating: /home/TILDE.LV/arturs.stafanovics/gender-bias/data/fr/training/europarl-v7.fr-en.en\n",
      "concatenating: /home/TILDE.LV/arturs.stafanovics/gender-bias/data/fr/un/undoc.2000.fr-en.en\n",
      "concatenating: /home/TILDE.LV/arturs.stafanovics/gender-bias/data/fr/commoncrawl.fr-en.fr\n",
      "concatenating: /home/TILDE.LV/arturs.stafanovics/gender-bias/data/fr/giga-fren.release2.fixed.fr\n",
      "concatenating: /home/TILDE.LV/arturs.stafanovics/gender-bias/data/fr/news-commentary-v10.fr-en.fr\n",
      "concatenating: /home/TILDE.LV/arturs.stafanovics/gender-bias/data/fr/training/europarl-v7.fr-en.fr\n",
      "concatenating: /home/TILDE.LV/arturs.stafanovics/gender-bias/data/fr/un/undoc.2000.fr-en.fr\n"
     ]
    }
   ],
   "source": [
    "# Combine corpus into one file\n",
    "def concat_corpus(lang):\n",
    "    out_file = FRENCH_DATA_DIR / f'corpus.{lang}'\n",
    "    files = [x for x in FRENCH_DATA_DIR.glob(f'**/*.{lang}') if 'corpus' not in x.name and 'develop' not in x.name]\n",
    "    concatenate(out_file, *files)\n",
    "\n",
    "concat_corpus('en')\n",
    "concat_corpus('fr')"
   ],
   "metadata": {
    "collapsed": false,
    "pycharm": {
     "name": "#%%\n"
    }
   }
  },
  {
   "cell_type": "code",
   "execution_count": 5,
   "outputs": [],
   "source": [
    "# Cleanup\n",
    "for file in FRENCH_DATA_DIR.rglob('*'):\n",
    "    if 'corpus' in file.name or 'develop' in file.name:\n",
    "        continue\n",
    "    if not file.is_dir():\n",
    "        file.unlink()\n",
    "\n",
    "for folder in FRENCH_DATA_DIR.iterdir():\n",
    "    if folder.is_dir():\n",
    "        folder.rmdir()"
   ],
   "metadata": {
    "collapsed": false,
    "pycharm": {
     "name": "#%%\n"
    }
   }
  },
  {
   "cell_type": "code",
   "execution_count": 4,
   "outputs": [
    {
     "name": "stdout",
     "output_type": "stream",
     "text": [
      "clean-corpus.perl: processing /home/TILDE.LV/arturs.stafanovics/gender-bias/data/fr/corpus.tok.en & .fr to corpus.clean, cutoff 1-80, ratio 9\r\n",
      "..........(100000)..........(200000)..........(300000)..........(400000)..........(500000)..........(600000)..........(700000)..........(800000)..........(900000)..........(1000000)..........(1100000)..........(1200000)..........(1300000)..........(1400000)..........(1500000)..........(1600000)..........(1700000)..........(1800000)..........(1900000).........Unicode non-character U+FDD3 is not recommended for open interchange in print at /home/TILDE.LV/arturs.stafanovics/gender-bias/tools/moses-scripts/scripts/training/clean-corpus-n.perl line 140, <E> line 1996159.\r\n",
      ".(2000000)....Unicode non-character U+FDD3 is not recommended for open interchange in print at /home/TILDE.LV/arturs.stafanovics/gender-bias/tools/moses-scripts/scripts/training/clean-corpus-n.perl line 141, <E> line 2044383.\r\n",
      "......(2100000)..........(2200000)..........(2300000)..........(2400000).........Unicode non-character U+FDD3 is not recommended for open interchange in print at /home/TILDE.LV/arturs.stafanovics/gender-bias/tools/moses-scripts/scripts/training/clean-corpus-n.perl line 141, <E> line 2494366.\r\n",
      "Unicode non-character U+FDD3 is not recommended for open interchange in print at /home/TILDE.LV/arturs.stafanovics/gender-bias/tools/moses-scripts/scripts/training/clean-corpus-n.perl line 141, <E> line 2494379.\r\n",
      "Unicode non-character U+FDD3 is not recommended for open interchange in print at /home/TILDE.LV/arturs.stafanovics/gender-bias/tools/moses-scripts/scripts/training/clean-corpus-n.perl line 141, <E> line 2494380.\r\n",
      "Unicode non-character U+FDD3 is not recommended for open interchange in print at /home/TILDE.LV/arturs.stafanovics/gender-bias/tools/moses-scripts/scripts/training/clean-corpus-n.perl line 141, <E> line 2494383.\r\n",
      ".(2500000)..........(2600000)..........(2700000)..........(2800000).Unicode non-character U+FDD3 is not recommended for open interchange in print at /home/TILDE.LV/arturs.stafanovics/gender-bias/tools/moses-scripts/scripts/training/clean-corpus-n.perl line 141, <E> line 2815486.\r\n",
      "Unicode non-character U+FDD3 is not recommended for open interchange in print at /home/TILDE.LV/arturs.stafanovics/gender-bias/tools/moses-scripts/scripts/training/clean-corpus-n.perl line 141, <E> line 2815514.\r\n",
      "Unicode non-character U+FDD3 is not recommended for open interchange in print at /home/TILDE.LV/arturs.stafanovics/gender-bias/tools/moses-scripts/scripts/training/clean-corpus-n.perl line 141, <E> line 2815519.\r\n",
      ".........(2900000).Unicode non-character U+FDD3 is not recommended for open interchange in print at /home/TILDE.LV/arturs.stafanovics/gender-bias/tools/moses-scripts/scripts/training/clean-corpus-n.perl line 141, <E> line 2914559.\r\n",
      "Unicode non-character U+FDD3 is not recommended for open interchange in print at /home/TILDE.LV/arturs.stafanovics/gender-bias/tools/moses-scripts/scripts/training/clean-corpus-n.perl line 141, <E> line 2914559.\r\n",
      "Unicode non-character U+FDD3 is not recommended for open interchange in print at /home/TILDE.LV/arturs.stafanovics/gender-bias/tools/moses-scripts/scripts/training/clean-corpus-n.perl line 141, <E> line 2914559.\r\n",
      "Unicode non-character U+FDD3 is not recommended for open interchange in print at /home/TILDE.LV/arturs.stafanovics/gender-bias/tools/moses-scripts/scripts/training/clean-corpus-n.perl line 141, <E> line 2914559.\r\n",
      ".........(3000000).Unicode non-character U+FDD3 is not recommended for open interchange in print at /home/TILDE.LV/arturs.stafanovics/gender-bias/tools/moses-scripts/scripts/training/clean-corpus-n.perl line 141, <E> line 3010101.\r\n",
      "Unicode non-character U+FDD3 is not recommended for open interchange in print at /home/TILDE.LV/arturs.stafanovics/gender-bias/tools/moses-scripts/scripts/training/clean-corpus-n.perl line 141, <E> line 3010116.\r\n",
      "...Unicode non-character U+FDD3 is not recommended for open interchange in print at /home/TILDE.LV/arturs.stafanovics/gender-bias/tools/moses-scripts/scripts/training/clean-corpus-n.perl line 141, <E> line 3042239.\r\n",
      "Unicode non-character U+FDD3 is not recommended for open interchange in print at /home/TILDE.LV/arturs.stafanovics/gender-bias/tools/moses-scripts/scripts/training/clean-corpus-n.perl line 141, <E> line 3042245.\r\n",
      "......(3100000)..........(3200000)..........(3300000)..........(3400000)..........(3500000)..........(3600000)..........(3700000)..........(3800000)..........(3900000)..........(4000000)..........(4100000)..........(4200000)..........(4300000)..........(4400000)..........(4500000)..........(4600000)..........(4700000)..........(4800000)..........(4900000)..........(5000000)..........(5100000)..........(5200000)..........(5300000)..........(5400000)..........(5500000)..........(5600000)..........(5700000)..........(5800000)..........(5900000)..........(6000000)...Unicode non-character U+FDD3 is not recommended for open interchange in print at /home/TILDE.LV/arturs.stafanovics/gender-bias/tools/moses-scripts/scripts/training/clean-corpus-n.perl line 140, <E> line 6034366.\r\n",
      ".......(6100000)....Unicode non-character U+FDD3 is not recommended for open interchange in print at /home/TILDE.LV/arturs.stafanovics/gender-bias/tools/moses-scripts/scripts/training/clean-corpus-n.perl line 141, <E> line 6142514.\r\n",
      "......(6200000)..........(6300000)..........(6400000)..........(6500000)..........(6600000)..........(6700000)..........(6800000)..........(6900000)..........(7000000)..........(7100000)..........(7200000)..........(7300000)..........(7400000)..........(7500000)..........(7600000)..........(7700000)..........(7800000)..........(7900000)..........(8000000)..........(8100000)..........(8200000)..........(8300000)..........(8400000)..........(8500000)..........(8600000)..........(8700000)..........(8800000)..........(8900000)..........(9000000)..........(9100000)..........(9200000).........Unicode non-character U+FDD3 is not recommended for open interchange in print at /home/TILDE.LV/arturs.stafanovics/gender-bias/tools/moses-scripts/scripts/training/clean-corpus-n.perl line 141, <E> line 9291862.\r\n",
      ".(9300000)..........(9400000)..........(9500000).....Unicode non-character U+FDD3 is not recommended for open interchange in print at /home/TILDE.LV/arturs.stafanovics/gender-bias/tools/moses-scripts/scripts/training/clean-corpus-n.perl line 141, <E> line 9551175.\r\n",
      "Unicode non-character U+FDD3 is not recommended for open interchange in print at /home/TILDE.LV/arturs.stafanovics/gender-bias/tools/moses-scripts/scripts/training/clean-corpus-n.perl line 141, <E> line 9551221.\r\n",
      "Unicode non-character U+FDD3 is not recommended for open interchange in print at /home/TILDE.LV/arturs.stafanovics/gender-bias/tools/moses-scripts/scripts/training/clean-corpus-n.perl line 141, <E> line 9551221.\r\n",
      "Unicode non-character U+FDD3 is not recommended for open interchange in print at /home/TILDE.LV/arturs.stafanovics/gender-bias/tools/moses-scripts/scripts/training/clean-corpus-n.perl line 141, <E> line 9551221.\r\n",
      "Unicode non-character U+FDD3 is not recommended for open interchange in print at /home/TILDE.LV/arturs.stafanovics/gender-bias/tools/moses-scripts/scripts/training/clean-corpus-n.perl line 140, <E> line 9551343.\r\n",
      "Unicode non-character U+FDD3 is not recommended for open interchange in print at /home/TILDE.LV/arturs.stafanovics/gender-bias/tools/moses-scripts/scripts/training/clean-corpus-n.perl line 140, <E> line 9551353.\r\n",
      "Unicode non-character U+FDD3 is not recommended for open interchange in print at /home/TILDE.LV/arturs.stafanovics/gender-bias/tools/moses-scripts/scripts/training/clean-corpus-n.perl line 140, <E> line 9551362.\r\n",
      ".Unicode non-character U+FDD3 is not recommended for open interchange in print at /home/TILDE.LV/arturs.stafanovics/gender-bias/tools/moses-scripts/scripts/training/clean-corpus-n.perl line 140, <E> line 9561847.\r\n",
      "....(9600000)..........(9700000).....Unicode non-character U+FDD3 is not recommended for open interchange in print at /home/TILDE.LV/arturs.stafanovics/gender-bias/tools/moses-scripts/scripts/training/clean-corpus-n.perl line 141, <E> line 9759030.\r\n",
      ".....(9800000)..........(9900000)..........(10000000)..........(10100000)..........(10200000)..........(10300000)..........(10400000)..........(10500000)..........(10600000)..Unicode non-character U+FDD3 is not recommended for open interchange in print at /home/TILDE.LV/arturs.stafanovics/gender-bias/tools/moses-scripts/scripts/training/clean-corpus-n.perl line 141, <E> line 10627088.\r\n",
      "Unicode non-character U+FDD3 is not recommended for open interchange in print at /home/TILDE.LV/arturs.stafanovics/gender-bias/tools/moses-scripts/scripts/training/clean-corpus-n.perl line 141, <E> line 10627110.\r\n",
      "........(10700000)..........(10800000).........Unicode non-character U+FDD3 is not recommended for open interchange in print at /home/TILDE.LV/arturs.stafanovics/gender-bias/tools/moses-scripts/scripts/training/clean-corpus-n.perl line 141, <E> line 10891903.\r\n",
      "Unicode non-character U+FDD3 is not recommended for open interchange in print at /home/TILDE.LV/arturs.stafanovics/gender-bias/tools/moses-scripts/scripts/training/clean-corpus-n.perl line 141, <E> line 10891904.\r\n",
      ".(10900000)..........(11000000)..........(11100000)..........(11200000)..........(11300000)..........(11400000)..........(11500000)..........(11600000)........Unicode non-character U+FDD3 is not recommended for open interchange in print at /home/TILDE.LV/arturs.stafanovics/gender-bias/tools/moses-scripts/scripts/training/clean-corpus-n.perl line 141, <E> line 11682370.\r\n",
      "..(11700000)..........(11800000).......Unicode non-character U+FDD3 is not recommended for open interchange in print at /home/TILDE.LV/arturs.stafanovics/gender-bias/tools/moses-scripts/scripts/training/clean-corpus-n.perl line 141, <E> line 11870297.\r\n",
      "...(11900000)..........(12000000)....Unicode non-character U+FDD3 is not recommended for open interchange in print at /home/TILDE.LV/arturs.stafanovics/gender-bias/tools/moses-scripts/scripts/training/clean-corpus-n.perl line 141, <E> line 12042224.\r\n",
      "Unicode non-character U+FDD3 is not recommended for open interchange in print at /home/TILDE.LV/arturs.stafanovics/gender-bias/tools/moses-scripts/scripts/training/clean-corpus-n.perl line 141, <E> line 12042224.\r\n",
      "......(12100000)..........(12200000)Unicode non-character U+FDD3 is not recommended for open interchange in print at /home/TILDE.LV/arturs.stafanovics/gender-bias/tools/moses-scripts/scripts/training/clean-corpus-n.perl line 141, <E> line 12201519.\r\n",
      "..........(12300000)..........(12400000)..........(12500000)...Unicode non-character U+FDD3 is not recommended for open interchange in print at /home/TILDE.LV/arturs.stafanovics/gender-bias/tools/moses-scripts/scripts/training/clean-corpus-n.perl line 141, <E> line 12537149.\r\n",
      "Unicode non-character U+FDD3 is not recommended for open interchange in print at /home/TILDE.LV/arturs.stafanovics/gender-bias/tools/moses-scripts/scripts/training/clean-corpus-n.perl line 141, <E> line 12537150.\r\n",
      ".......(12600000)..........(12700000)...Unicode non-character U+FDD3 is not recommended for open interchange in print at /home/TILDE.LV/arturs.stafanovics/gender-bias/tools/moses-scripts/scripts/training/clean-corpus-n.perl line 141, <E> line 12732928.\r\n",
      "Unicode non-character U+FDD3 is not recommended for open interchange in print at /home/TILDE.LV/arturs.stafanovics/gender-bias/tools/moses-scripts/scripts/training/clean-corpus-n.perl line 141, <E> line 12732928.\r\n",
      "Unicode non-character U+FDD3 is not recommended for open interchange in print at /home/TILDE.LV/arturs.stafanovics/gender-bias/tools/moses-scripts/scripts/training/clean-corpus-n.perl line 141, <E> line 12732928.\r\n",
      "....Unicode non-character U+FDD3 is not recommended for open interchange in print at /home/TILDE.LV/arturs.stafanovics/gender-bias/tools/moses-scripts/scripts/training/clean-corpus-n.perl line 140, <E> line 12775342.\r\n",
      "...(12800000).........Unicode non-character U+FDD3 is not recommended for open interchange in print at /home/TILDE.LV/arturs.stafanovics/gender-bias/tools/moses-scripts/scripts/training/clean-corpus-n.perl line 141, <E> line 12891468.\r\n",
      "Unicode non-character U+FDD3 is not recommended for open interchange in print at /home/TILDE.LV/arturs.stafanovics/gender-bias/tools/moses-scripts/scripts/training/clean-corpus-n.perl line 141, <E> line 12891468.\r\n",
      ".(12900000)....Unicode non-character U+FDD3 is not recommended for open interchange in print at /home/TILDE.LV/arturs.stafanovics/gender-bias/tools/moses-scripts/scripts/training/clean-corpus-n.perl line 141, <E> line 12943462.\r\n",
      "......(13000000)........Unicode non-character U+FDD3 is not recommended for open interchange in print at /home/TILDE.LV/arturs.stafanovics/gender-bias/tools/moses-scripts/scripts/training/clean-corpus-n.perl line 141, <E> line 13086056.\r\n",
      "Unicode non-character U+FDD3 is not recommended for open interchange in print at /home/TILDE.LV/arturs.stafanovics/gender-bias/tools/moses-scripts/scripts/training/clean-corpus-n.perl line 141, <E> line 13086058.\r\n",
      "..(13100000)..........(13200000)..........(13300000).........Unicode non-character U+FDD3 is not recommended for open interchange in print at /home/TILDE.LV/arturs.stafanovics/gender-bias/tools/moses-scripts/scripts/training/clean-corpus-n.perl line 141, <E> line 13397559.\r\n",
      "Unicode non-character U+FDD3 is not recommended for open interchange in print at /home/TILDE.LV/arturs.stafanovics/gender-bias/tools/moses-scripts/scripts/training/clean-corpus-n.perl line 141, <E> line 13397562.\r\n",
      "Unicode non-character U+FDD3 is not recommended for open interchange in print at /home/TILDE.LV/arturs.stafanovics/gender-bias/tools/moses-scripts/scripts/training/clean-corpus-n.perl line 141, <E> line 13397563.\r\n",
      "Unicode non-character U+FDD3 is not recommended for open interchange in print at /home/TILDE.LV/arturs.stafanovics/gender-bias/tools/moses-scripts/scripts/training/clean-corpus-n.perl line 141, <E> line 13397565.\r\n",
      ".(13400000)..........(13500000)..........(13600000)..........(13700000)..........(13800000).Unicode non-character U+FDD3 is not recommended for open interchange in print at /home/TILDE.LV/arturs.stafanovics/gender-bias/tools/moses-scripts/scripts/training/clean-corpus-n.perl line 141, <E> line 13819276.\r\n",
      "Unicode non-character U+FDD3 is not recommended for open interchange in print at /home/TILDE.LV/arturs.stafanovics/gender-bias/tools/moses-scripts/scripts/training/clean-corpus-n.perl line 141, <E> line 13819276.\r\n",
      "Unicode non-character U+FDD3 is not recommended for open interchange in print at /home/TILDE.LV/arturs.stafanovics/gender-bias/tools/moses-scripts/scripts/training/clean-corpus-n.perl line 141, <E> line 13819276.\r\n",
      ".........(13900000)..........(14000000)..........(14100000)..........(14200000)..........(14300000).......Unicode non-character U+FDD3 is not recommended for open interchange in print at /home/TILDE.LV/arturs.stafanovics/gender-bias/tools/moses-scripts/scripts/training/clean-corpus-n.perl line 141, <E> line 14375190.\r\n",
      "...(14400000).Unicode non-character U+FDD3 is not recommended for open interchange in print at /home/TILDE.LV/arturs.stafanovics/gender-bias/tools/moses-scripts/scripts/training/clean-corpus-n.perl line 141, <E> line 14418040.\r\n",
      ".........(14500000)..........(14600000)..Unicode non-character U+FDD3 is not recommended for open interchange in print at /home/TILDE.LV/arturs.stafanovics/gender-bias/tools/moses-scripts/scripts/training/clean-corpus-n.perl line 141, <E> line 14624346.\r\n",
      "Unicode non-character U+FDD3 is not recommended for open interchange in print at /home/TILDE.LV/arturs.stafanovics/gender-bias/tools/moses-scripts/scripts/training/clean-corpus-n.perl line 141, <E> line 14624347.\r\n",
      "........(14700000)..........(14800000)..........(14900000)..........(15000000)....Unicode non-character U+FDD3 is not recommended for open interchange in print at /home/TILDE.LV/arturs.stafanovics/gender-bias/tools/moses-scripts/scripts/training/clean-corpus-n.perl line 140, <E> line 15047214.\r\n",
      ".Unicode non-character U+FDD3 is not recommended for open interchange in print at /home/TILDE.LV/arturs.stafanovics/gender-bias/tools/moses-scripts/scripts/training/clean-corpus-n.perl line 141, <E> line 15055394.\r\n",
      ".....(15100000)..........(15200000)..Unicode non-character U+FDD3 is not recommended for open interchange in print at /home/TILDE.LV/arturs.stafanovics/gender-bias/tools/moses-scripts/scripts/training/clean-corpus-n.perl line 140, <E> line 15227046.\r\n",
      ".....Unicode non-character U+FDD3 is not recommended for open interchange in print at /home/TILDE.LV/arturs.stafanovics/gender-bias/tools/moses-scripts/scripts/training/clean-corpus-n.perl line 141, <E> line 15275070.\r\n",
      "...(15300000).....Unicode non-character U+FDD3 is not recommended for open interchange in print at /home/TILDE.LV/arturs.stafanovics/gender-bias/tools/moses-scripts/scripts/training/clean-corpus-n.perl line 141, <E> line 15354791.\r\n",
      ".....(15400000).........Unicode non-character U+FDD3 is not recommended for open interchange in print at /home/TILDE.LV/arturs.stafanovics/gender-bias/tools/moses-scripts/scripts/training/clean-corpus-n.perl line 141, <E> line 15490692.\r\n",
      "Unicode non-character U+FDD3 is not recommended for open interchange in print at /home/TILDE.LV/arturs.stafanovics/gender-bias/tools/moses-scripts/scripts/training/clean-corpus-n.perl line 141, <E> line 15490692.\r\n",
      "Unicode non-character U+FDD3 is not recommended for open interchange in print at /home/TILDE.LV/arturs.stafanovics/gender-bias/tools/moses-scripts/scripts/training/clean-corpus-n.perl line 141, <E> line 15490692.\r\n",
      "Unicode non-character U+FDD3 is not recommended for open interchange in print at /home/TILDE.LV/arturs.stafanovics/gender-bias/tools/moses-scripts/scripts/training/clean-corpus-n.perl line 141, <E> line 15490692.\r\n",
      ".(15500000)..........(15600000)Unicode non-character U+FDD3 is not recommended for open interchange in print at /home/TILDE.LV/arturs.stafanovics/gender-bias/tools/moses-scripts/scripts/training/clean-corpus-n.perl line 141, <E> line 15609747.\r\n",
      "Unicode non-character U+FDD3 is not recommended for open interchange in print at /home/TILDE.LV/arturs.stafanovics/gender-bias/tools/moses-scripts/scripts/training/clean-corpus-n.perl line 141, <E> line 15609752.\r\n",
      ".Unicode non-character U+FDD3 is not recommended for open interchange in print at /home/TILDE.LV/arturs.stafanovics/gender-bias/tools/moses-scripts/scripts/training/clean-corpus-n.perl line 141, <E> line 15610869.\r\n",
      ".........(15700000)..........(15800000)...Unicode non-character U+FDD3 is not recommended for open interchange in print at /home/TILDE.LV/arturs.stafanovics/gender-bias/tools/moses-scripts/scripts/training/clean-corpus-n.perl line 141, <E> line 15832206.\r\n",
      "Unicode non-character U+FDD3 is not recommended for open interchange in print at /home/TILDE.LV/arturs.stafanovics/gender-bias/tools/moses-scripts/scripts/training/clean-corpus-n.perl line 141, <E> line 15832207.\r\n",
      "Unicode non-character U+FDD3 is not recommended for open interchange in print at /home/TILDE.LV/arturs.stafanovics/gender-bias/tools/moses-scripts/scripts/training/clean-corpus-n.perl line 141, <E> line 15832209.\r\n",
      ".Unicode non-character U+FDD3 is not recommended for open interchange in print at /home/TILDE.LV/arturs.stafanovics/gender-bias/tools/moses-scripts/scripts/training/clean-corpus-n.perl line 141, <E> line 15846359.\r\n",
      "......(15900000)..........(16000000)......Unicode non-character U+FDD3 is not recommended for open interchange in print at /home/TILDE.LV/arturs.stafanovics/gender-bias/tools/moses-scripts/scripts/training/clean-corpus-n.perl line 141, <E> line 16060988.\r\n",
      "Unicode non-character U+FDD3 is not recommended for open interchange in print at /home/TILDE.LV/arturs.stafanovics/gender-bias/tools/moses-scripts/scripts/training/clean-corpus-n.perl line 141, <E> line 16060988.\r\n",
      "Unicode non-character U+FDD3 is not recommended for open interchange in print at /home/TILDE.LV/arturs.stafanovics/gender-bias/tools/moses-scripts/scripts/training/clean-corpus-n.perl line 141, <E> line 16060988.\r\n",
      "Unicode non-character U+FDD3 is not recommended for open interchange in print at /home/TILDE.LV/arturs.stafanovics/gender-bias/tools/moses-scripts/scripts/training/clean-corpus-n.perl line 141, <E> line 16061001.\r\n",
      "....(16100000)..........(16200000)..........(16300000)..........(16400000).....Unicode non-character U+FDD3 is not recommended for open interchange in print at /home/TILDE.LV/arturs.stafanovics/gender-bias/tools/moses-scripts/scripts/training/clean-corpus-n.perl line 141, <E> line 16455900.\r\n",
      ".....(16500000)..........(16600000)..........(16700000)..........(16800000)...Unicode non-character U+FDD3 is not recommended for open interchange in print at /home/TILDE.LV/arturs.stafanovics/gender-bias/tools/moses-scripts/scripts/training/clean-corpus-n.perl line 141, <E> line 16837785.\r\n",
      ".......(16900000)..........(17000000)...Unicode non-character U+FDD3 is not recommended for open interchange in print at /home/TILDE.LV/arturs.stafanovics/gender-bias/tools/moses-scripts/scripts/training/clean-corpus-n.perl line 141, <E> line 17030346.\r\n",
      "Unicode non-character U+FDD3 is not recommended for open interchange in print at /home/TILDE.LV/arturs.stafanovics/gender-bias/tools/moses-scripts/scripts/training/clean-corpus-n.perl line 141, <E> line 17030351.\r\n",
      ".......(17100000)..........(17200000)..........(17300000).Unicode non-character U+FDD3 is not recommended for open interchange in print at /home/TILDE.LV/arturs.stafanovics/gender-bias/tools/moses-scripts/scripts/training/clean-corpus-n.perl line 141, <E> line 17319421.\r\n",
      "Unicode non-character U+FDD3 is not recommended for open interchange in print at /home/TILDE.LV/arturs.stafanovics/gender-bias/tools/moses-scripts/scripts/training/clean-corpus-n.perl line 141, <E> line 17319423.\r\n",
      "Unicode non-character U+FDD3 is not recommended for open interchange in print at /home/TILDE.LV/arturs.stafanovics/gender-bias/tools/moses-scripts/scripts/training/clean-corpus-n.perl line 141, <E> line 17319425.\r\n",
      "..Unicode non-character U+FDD3 is not recommended for open interchange in print at /home/TILDE.LV/arturs.stafanovics/gender-bias/tools/moses-scripts/scripts/training/clean-corpus-n.perl line 141, <E> line 17330198.\r\n",
      "...Unicode non-character U+FDD3 is not recommended for open interchange in print at /home/TILDE.LV/arturs.stafanovics/gender-bias/tools/moses-scripts/scripts/training/clean-corpus-n.perl line 141, <E> line 17365135.\r\n",
      "....(17400000)..........(17500000)..........(17600000)..........(17700000)..........(17800000)........Unicode non-character U+FDD3 is not recommended for open interchange in print at /home/TILDE.LV/arturs.stafanovics/gender-bias/tools/moses-scripts/scripts/training/clean-corpus-n.perl line 141, <E> line 17886800.\r\n",
      "..(17900000)..........(18000000)......Unicode non-character U+FDD3 is not recommended for open interchange in print at /home/TILDE.LV/arturs.stafanovics/gender-bias/tools/moses-scripts/scripts/training/clean-corpus-n.perl line 141, <E> line 18064809.\r\n",
      "....(18100000)...Unicode non-character U+FDD3 is not recommended for open interchange in print at /home/TILDE.LV/arturs.stafanovics/gender-bias/tools/moses-scripts/scripts/training/clean-corpus-n.perl line 141, <E> line 18139140.\r\n",
      "Unicode non-character U+FDD3 is not recommended for open interchange in print at /home/TILDE.LV/arturs.stafanovics/gender-bias/tools/moses-scripts/scripts/training/clean-corpus-n.perl line 141, <E> line 18139146.\r\n",
      ".......(18200000)Unicode non-character U+FDD3 is not recommended for open interchange in print at /home/TILDE.LV/arturs.stafanovics/gender-bias/tools/moses-scripts/scripts/training/clean-corpus-n.perl line 140, <E> line 18203226.\r\n",
      "Unicode non-character U+FDD3 is not recommended for open interchange in print at /home/TILDE.LV/arturs.stafanovics/gender-bias/tools/moses-scripts/scripts/training/clean-corpus-n.perl line 141, <E> line 18203226.\r\n",
      "Unicode non-character U+FDD3 is not recommended for open interchange in print at /home/TILDE.LV/arturs.stafanovics/gender-bias/tools/moses-scripts/scripts/training/clean-corpus-n.perl line 140, <E> line 18203227.\r\n",
      "Unicode non-character U+FDD3 is not recommended for open interchange in print at /home/TILDE.LV/arturs.stafanovics/gender-bias/tools/moses-scripts/scripts/training/clean-corpus-n.perl line 140, <E> line 18203236.\r\n",
      "Unicode non-character U+FDD3 is not recommended for open interchange in print at /home/TILDE.LV/arturs.stafanovics/gender-bias/tools/moses-scripts/scripts/training/clean-corpus-n.perl line 140, <E> line 18203236.\r\n",
      "Unicode non-character U+FDD3 is not recommended for open interchange in print at /home/TILDE.LV/arturs.stafanovics/gender-bias/tools/moses-scripts/scripts/training/clean-corpus-n.perl line 141, <E> line 18203238.\r\n",
      "Unicode non-character U+FDD3 is not recommended for open interchange in print at /home/TILDE.LV/arturs.stafanovics/gender-bias/tools/moses-scripts/scripts/training/clean-corpus-n.perl line 141, <E> line 18203238.\r\n",
      "Unicode non-character U+FDD3 is not recommended for open interchange in print at /home/TILDE.LV/arturs.stafanovics/gender-bias/tools/moses-scripts/scripts/training/clean-corpus-n.perl line 141, <E> line 18203242.\r\n",
      "Unicode non-character U+FDD3 is not recommended for open interchange in print at /home/TILDE.LV/arturs.stafanovics/gender-bias/tools/moses-scripts/scripts/training/clean-corpus-n.perl line 140, <E> line 18203247.\r\n",
      "Unicode non-character U+FDD3 is not recommended for open interchange in print at /home/TILDE.LV/arturs.stafanovics/gender-bias/tools/moses-scripts/scripts/training/clean-corpus-n.perl line 140, <E> line 18203247.\r\n",
      "Unicode non-character U+FDD3 is not recommended for open interchange in print at /home/TILDE.LV/arturs.stafanovics/gender-bias/tools/moses-scripts/scripts/training/clean-corpus-n.perl line 140, <E> line 18203248.\r\n",
      "Unicode non-character U+FDD3 is not recommended for open interchange in print at /home/TILDE.LV/arturs.stafanovics/gender-bias/tools/moses-scripts/scripts/training/clean-corpus-n.perl line 140, <E> line 18203248.\r\n",
      "Unicode non-character U+FDD3 is not recommended for open interchange in print at /home/TILDE.LV/arturs.stafanovics/gender-bias/tools/moses-scripts/scripts/training/clean-corpus-n.perl line 140, <E> line 18203250.\r\n",
      "Unicode non-character U+FDD3 is not recommended for open interchange in print at /home/TILDE.LV/arturs.stafanovics/gender-bias/tools/moses-scripts/scripts/training/clean-corpus-n.perl line 140, <E> line 18203250.\r\n",
      "Unicode non-character U+FDD3 is not recommended for open interchange in print at /home/TILDE.LV/arturs.stafanovics/gender-bias/tools/moses-scripts/scripts/training/clean-corpus-n.perl line 140, <E> line 18203288.\r\n",
      "..........(18300000)..........(18400000)..........(18500000)..........(18600000)..........(18700000).....Unicode non-character U+FDD3 is not recommended for open interchange in print at /home/TILDE.LV/arturs.stafanovics/gender-bias/tools/moses-scripts/scripts/training/clean-corpus-n.perl line 141, <E> line 18755482.\r\n",
      "Unicode non-character U+FDD3 is not recommended for open interchange in print at /home/TILDE.LV/arturs.stafanovics/gender-bias/tools/moses-scripts/scripts/training/clean-corpus-n.perl line 141, <E> line 18755490.\r\n",
      "Unicode non-character U+FDD3 is not recommended for open interchange in print at /home/TILDE.LV/arturs.stafanovics/gender-bias/tools/moses-scripts/scripts/training/clean-corpus-n.perl line 141, <E> line 18755490.\r\n",
      ".....(18800000).....Unicode non-character U+FDD3 is not recommended for open interchange in print at /home/TILDE.LV/arturs.stafanovics/gender-bias/tools/moses-scripts/scripts/training/clean-corpus-n.perl line 141, <E> line 18857378.\r\n",
      "Unicode non-character U+FDD3 is not recommended for open interchange in print at /home/TILDE.LV/arturs.stafanovics/gender-bias/tools/moses-scripts/scripts/training/clean-corpus-n.perl line 141, <E> line 18857382.\r\n",
      "Unicode non-character U+FDD3 is not recommended for open interchange in print at /home/TILDE.LV/arturs.stafanovics/gender-bias/tools/moses-scripts/scripts/training/clean-corpus-n.perl line 141, <E> line 18857385.\r\n",
      ".....(18900000)..........(19000000)..........(19100000)..........(19200000)Unicode non-character U+FDD3 is not recommended for open interchange in print at /home/TILDE.LV/arturs.stafanovics/gender-bias/tools/moses-scripts/scripts/training/clean-corpus-n.perl line 141, <E> line 19204691.\r\n",
      "Unicode non-character U+FDD3 is not recommended for open interchange in print at /home/TILDE.LV/arturs.stafanovics/gender-bias/tools/moses-scripts/scripts/training/clean-corpus-n.perl line 141, <E> line 19204692.\r\n",
      "..Unicode non-character U+FDD3 is not recommended for open interchange in print at /home/TILDE.LV/arturs.stafanovics/gender-bias/tools/moses-scripts/scripts/training/clean-corpus-n.perl line 141, <E> line 19220303.\r\n",
      "........(19300000).......Unicode non-character U+FDD3 is not recommended for open interchange in print at /home/TILDE.LV/arturs.stafanovics/gender-bias/tools/moses-scripts/scripts/training/clean-corpus-n.perl line 141, <E> line 19372650.\r\n",
      "...(19400000).........Unicode non-character U+FDD3 is not recommended for open interchange in print at /home/TILDE.LV/arturs.stafanovics/gender-bias/tools/moses-scripts/scripts/training/clean-corpus-n.perl line 141, <E> line 19493696.\r\n",
      ".(19500000)..........(19600000)..........(19700000)..........(19800000).........Unicode non-character U+FDD3 is not recommended for open interchange in print at /home/TILDE.LV/arturs.stafanovics/gender-bias/tools/moses-scripts/scripts/training/clean-corpus-n.perl line 141, <E> line 19896403.\r\n",
      ".(19900000)..........(20000000).Unicode non-character U+FDD3 is not recommended for open interchange in print at /home/TILDE.LV/arturs.stafanovics/gender-bias/tools/moses-scripts/scripts/training/clean-corpus-n.perl line 141, <E> line 20018502.\r\n",
      ".........(20100000)..........(20200000)..........(20300000)..........(20400000).........Unicode non-character U+FDD3 is not recommended for open interchange in print at /home/TILDE.LV/arturs.stafanovics/gender-bias/tools/moses-scripts/scripts/training/clean-corpus-n.perl line 141, <E> line 20495639.\r\n",
      "Unicode non-character U+FDD3 is not recommended for open interchange in print at /home/TILDE.LV/arturs.stafanovics/gender-bias/tools/moses-scripts/scripts/training/clean-corpus-n.perl line 141, <E> line 20495649.\r\n",
      ".(20500000)..........(20600000)..........(20700000)..........(20800000)..........(20900000)..........(21000000)..........(21100000)...Unicode non-character U+FDD3 is not recommended for open interchange in print at /home/TILDE.LV/arturs.stafanovics/gender-bias/tools/moses-scripts/scripts/training/clean-corpus-n.perl line 141, <E> line 21131818.\r\n",
      ".......(21200000).....Unicode non-character U+FDD3 is not recommended for open interchange in print at /home/TILDE.LV/arturs.stafanovics/gender-bias/tools/moses-scripts/scripts/training/clean-corpus-n.perl line 140, <E> line 21255116.\r\n",
      ".....(21300000)..........(21400000).....Unicode non-character U+FDD3 is not recommended for open interchange in print at /home/TILDE.LV/arturs.stafanovics/gender-bias/tools/moses-scripts/scripts/training/clean-corpus-n.perl line 141, <E> line 21458904.\r\n",
      "Unicode non-character U+FDD3 is not recommended for open interchange in print at /home/TILDE.LV/arturs.stafanovics/gender-bias/tools/moses-scripts/scripts/training/clean-corpus-n.perl line 141, <E> line 21458906.\r\n",
      ".....(21500000)......Unicode non-character U+FDD3 is not recommended for open interchange in print at /home/TILDE.LV/arturs.stafanovics/gender-bias/tools/moses-scripts/scripts/training/clean-corpus-n.perl line 141, <E> line 21568434.\r\n",
      "....(21600000)..........(21700000).....Unicode non-character U+FDD3 is not recommended for open interchange in print at /home/TILDE.LV/arturs.stafanovics/gender-bias/tools/moses-scripts/scripts/training/clean-corpus-n.perl line 141, <E> line 21751046.\r\n",
      "Unicode non-character U+FDD3 is not recommended for open interchange in print at /home/TILDE.LV/arturs.stafanovics/gender-bias/tools/moses-scripts/scripts/training/clean-corpus-n.perl line 141, <E> line 21751046.\r\n",
      "Unicode non-character U+FDD3 is not recommended for open interchange in print at /home/TILDE.LV/arturs.stafanovics/gender-bias/tools/moses-scripts/scripts/training/clean-corpus-n.perl line 141, <E> line 21751046.\r\n",
      ".....(21800000).Unicode non-character U+FDD3 is not recommended for open interchange in print at /home/TILDE.LV/arturs.stafanovics/gender-bias/tools/moses-scripts/scripts/training/clean-corpus-n.perl line 141, <E> line 21817210.\r\n",
      "Unicode non-character U+FDD3 is not recommended for open interchange in print at /home/TILDE.LV/arturs.stafanovics/gender-bias/tools/moses-scripts/scripts/training/clean-corpus-n.perl line 141, <E> line 21817210.\r\n",
      ".........(21900000)..........(22000000)Unicode non-character U+FDD3 is not recommended for open interchange in print at /home/TILDE.LV/arturs.stafanovics/gender-bias/tools/moses-scripts/scripts/training/clean-corpus-n.perl line 141, <E> line 22000966.\r\n",
      "Unicode non-character U+FDD3 is not recommended for open interchange in print at /home/TILDE.LV/arturs.stafanovics/gender-bias/tools/moses-scripts/scripts/training/clean-corpus-n.perl line 141, <E> line 22000966.\r\n",
      "..........(22100000)....Unicode non-character U+FDD3 is not recommended for open interchange in print at /home/TILDE.LV/arturs.stafanovics/gender-bias/tools/moses-scripts/scripts/training/clean-corpus-n.perl line 141, <E> line 22143684.\r\n",
      "......(22200000)Unicode non-character U+FDD3 is not recommended for open interchange in print at /home/TILDE.LV/arturs.stafanovics/gender-bias/tools/moses-scripts/scripts/training/clean-corpus-n.perl line 141, <E> line 22206017.\r\n",
      ".Unicode non-character U+FDD3 is not recommended for open interchange in print at /home/TILDE.LV/arturs.stafanovics/gender-bias/tools/moses-scripts/scripts/training/clean-corpus-n.perl line 141, <E> line 22212533.\r\n",
      ".........(22300000)Unicode non-character U+FDD3 is not recommended for open interchange in print at /home/TILDE.LV/arturs.stafanovics/gender-bias/tools/moses-scripts/scripts/training/clean-corpus-n.perl line 141, <E> line 22309807.\r\n",
      "Unicode non-character U+FDD3 is not recommended for open interchange in print at /home/TILDE.LV/arturs.stafanovics/gender-bias/tools/moses-scripts/scripts/training/clean-corpus-n.perl line 141, <E> line 22309810.\r\n",
      "..........(22400000)......Unicode non-character U+FDD3 is not recommended for open interchange in print at /home/TILDE.LV/arturs.stafanovics/gender-bias/tools/moses-scripts/scripts/training/clean-corpus-n.perl line 141, <E> line 22469316.\r\n",
      "...Unicode non-character U+FDD3 is not recommended for open interchange in print at /home/TILDE.LV/arturs.stafanovics/gender-bias/tools/moses-scripts/scripts/training/clean-corpus-n.perl line 141, <E> line 22494628.\r\n",
      ".(22500000)..........(22600000)..........(22700000)..........(22800000).......Unicode non-character U+FDD3 is not recommended for open interchange in print at /home/TILDE.LV/arturs.stafanovics/gender-bias/tools/moses-scripts/scripts/training/clean-corpus-n.perl line 141, <E> line 22870958.\r\n",
      "Unicode non-character U+FDD3 is not recommended for open interchange in print at /home/TILDE.LV/arturs.stafanovics/gender-bias/tools/moses-scripts/scripts/training/clean-corpus-n.perl line 141, <E> line 22870964.\r\n",
      "Unicode non-character U+FDD3 is not recommended for open interchange in print at /home/TILDE.LV/arturs.stafanovics/gender-bias/tools/moses-scripts/scripts/training/clean-corpus-n.perl line 141, <E> line 22870967.\r\n",
      "Unicode non-character U+FDD3 is not recommended for open interchange in print at /home/TILDE.LV/arturs.stafanovics/gender-bias/tools/moses-scripts/scripts/training/clean-corpus-n.perl line 141, <E> line 22870967.\r\n",
      "Unicode non-character U+FDD3 is not recommended for open interchange in print at /home/TILDE.LV/arturs.stafanovics/gender-bias/tools/moses-scripts/scripts/training/clean-corpus-n.perl line 141, <E> line 22870968.\r\n",
      "Unicode non-character U+FDD3 is not recommended for open interchange in print at /home/TILDE.LV/arturs.stafanovics/gender-bias/tools/moses-scripts/scripts/training/clean-corpus-n.perl line 141, <E> line 22870968.\r\n",
      "Unicode non-character U+FDD3 is not recommended for open interchange in print at /home/TILDE.LV/arturs.stafanovics/gender-bias/tools/moses-scripts/scripts/training/clean-corpus-n.perl line 141, <E> line 22870968.\r\n",
      "..Unicode non-character U+FDD3 is not recommended for open interchange in print at /home/TILDE.LV/arturs.stafanovics/gender-bias/tools/moses-scripts/scripts/training/clean-corpus-n.perl line 141, <E> line 22892557.\r\n",
      "Unicode non-character U+FDD3 is not recommended for open interchange in print at /home/TILDE.LV/arturs.stafanovics/gender-bias/tools/moses-scripts/scripts/training/clean-corpus-n.perl line 141, <E> line 22892561.\r\n",
      "Unicode non-character U+FDD3 is not recommended for open interchange in print at /home/TILDE.LV/arturs.stafanovics/gender-bias/tools/moses-scripts/scripts/training/clean-corpus-n.perl line 141, <E> line 22892565.\r\n",
      "Unicode non-character U+FDD3 is not recommended for open interchange in print at /home/TILDE.LV/arturs.stafanovics/gender-bias/tools/moses-scripts/scripts/training/clean-corpus-n.perl line 141, <E> line 22892566.\r\n",
      ".(22900000)..Unicode non-character U+FDD3 is not recommended for open interchange in print at /home/TILDE.LV/arturs.stafanovics/gender-bias/tools/moses-scripts/scripts/training/clean-corpus-n.perl line 141, <E> line 22924232.\r\n",
      "........(23000000).Unicode non-character U+FDD3 is not recommended for open interchange in print at /home/TILDE.LV/arturs.stafanovics/gender-bias/tools/moses-scripts/scripts/training/clean-corpus-n.perl line 141, <E> line 23017653.\r\n",
      "........Unicode non-character U+FDD3 is not recommended for open interchange in print at /home/TILDE.LV/arturs.stafanovics/gender-bias/tools/moses-scripts/scripts/training/clean-corpus-n.perl line 141, <E> line 23091915.\r\n",
      ".(23100000).........Unicode non-character U+FDD3 is not recommended for open interchange in print at /home/TILDE.LV/arturs.stafanovics/gender-bias/tools/moses-scripts/scripts/training/clean-corpus-n.perl line 141, <E> line 23198844.\r\n",
      "Unicode non-character U+FDD3 is not recommended for open interchange in print at /home/TILDE.LV/arturs.stafanovics/gender-bias/tools/moses-scripts/scripts/training/clean-corpus-n.perl line 141, <E> line 23198846.\r\n",
      "Unicode non-character U+FDD3 is not recommended for open interchange in print at /home/TILDE.LV/arturs.stafanovics/gender-bias/tools/moses-scripts/scripts/training/clean-corpus-n.perl line 141, <E> line 23198852.\r\n",
      ".(23200000)..........(23300000)....Unicode non-character U+FDD3 is not recommended for open interchange in print at /home/TILDE.LV/arturs.stafanovics/gender-bias/tools/moses-scripts/scripts/training/clean-corpus-n.perl line 141, <E> line 23345146.\r\n",
      "Unicode non-character U+FDD3 is not recommended for open interchange in print at /home/TILDE.LV/arturs.stafanovics/gender-bias/tools/moses-scripts/scripts/training/clean-corpus-n.perl line 141, <E> line 23345151.\r\n",
      "Unicode non-character U+FDD3 is not recommended for open interchange in print at /home/TILDE.LV/arturs.stafanovics/gender-bias/tools/moses-scripts/scripts/training/clean-corpus-n.perl line 141, <E> line 23345158.\r\n",
      "Unicode non-character U+FDD3 is not recommended for open interchange in print at /home/TILDE.LV/arturs.stafanovics/gender-bias/tools/moses-scripts/scripts/training/clean-corpus-n.perl line 141, <E> line 23345160.\r\n",
      "Unicode non-character U+FDD3 is not recommended for open interchange in print at /home/TILDE.LV/arturs.stafanovics/gender-bias/tools/moses-scripts/scripts/training/clean-corpus-n.perl line 141, <E> line 23345162.\r\n",
      "Unicode non-character U+FDD3 is not recommended for open interchange in print at /home/TILDE.LV/arturs.stafanovics/gender-bias/tools/moses-scripts/scripts/training/clean-corpus-n.perl line 141, <E> line 23345179.\r\n",
      "Unicode non-character U+FDD3 is not recommended for open interchange in print at /home/TILDE.LV/arturs.stafanovics/gender-bias/tools/moses-scripts/scripts/training/clean-corpus-n.perl line 141, <E> line 23345181.\r\n",
      "Unicode non-character U+FDD3 is not recommended for open interchange in print at /home/TILDE.LV/arturs.stafanovics/gender-bias/tools/moses-scripts/scripts/training/clean-corpus-n.perl line 141, <E> line 23345181.\r\n",
      "Unicode non-character U+FDD3 is not recommended for open interchange in print at /home/TILDE.LV/arturs.stafanovics/gender-bias/tools/moses-scripts/scripts/training/clean-corpus-n.perl line 141, <E> line 23345181.\r\n",
      "Unicode non-character U+FDD3 is not recommended for open interchange in print at /home/TILDE.LV/arturs.stafanovics/gender-bias/tools/moses-scripts/scripts/training/clean-corpus-n.perl line 141, <E> line 23345196.\r\n",
      "Unicode non-character U+FDD3 is not recommended for open interchange in print at /home/TILDE.LV/arturs.stafanovics/gender-bias/tools/moses-scripts/scripts/training/clean-corpus-n.perl line 141, <E> line 23345197.\r\n",
      "Unicode non-character U+FDD3 is not recommended for open interchange in print at /home/TILDE.LV/arturs.stafanovics/gender-bias/tools/moses-scripts/scripts/training/clean-corpus-n.perl line 141, <E> line 23345202.\r\n",
      "Unicode non-character U+FDD3 is not recommended for open interchange in print at /home/TILDE.LV/arturs.stafanovics/gender-bias/tools/moses-scripts/scripts/training/clean-corpus-n.perl line 141, <E> line 23345211.\r\n",
      "Unicode non-character U+FDD3 is not recommended for open interchange in print at /home/TILDE.LV/arturs.stafanovics/gender-bias/tools/moses-scripts/scripts/training/clean-corpus-n.perl line 141, <E> line 23345211.\r\n",
      "Unicode non-character U+FDD3 is not recommended for open interchange in print at /home/TILDE.LV/arturs.stafanovics/gender-bias/tools/moses-scripts/scripts/training/clean-corpus-n.perl line 141, <E> line 23345213.\r\n",
      "......(23400000)..Unicode non-character U+FDD3 is not recommended for open interchange in print at /home/TILDE.LV/arturs.stafanovics/gender-bias/tools/moses-scripts/scripts/training/clean-corpus-n.perl line 141, <E> line 23424817.\r\n",
      "........(23500000)..........(23600000)...Unicode non-character U+FDD3 is not recommended for open interchange in print at /home/TILDE.LV/arturs.stafanovics/gender-bias/tools/moses-scripts/scripts/training/clean-corpus-n.perl line 141, <E> line 23633032.\r\n",
      "Unicode non-character U+FDD3 is not recommended for open interchange in print at /home/TILDE.LV/arturs.stafanovics/gender-bias/tools/moses-scripts/scripts/training/clean-corpus-n.perl line 141, <E> line 23633032.\r\n",
      "Unicode non-character U+FDD3 is not recommended for open interchange in print at /home/TILDE.LV/arturs.stafanovics/gender-bias/tools/moses-scripts/scripts/training/clean-corpus-n.perl line 141, <E> line 23633033.\r\n",
      "Unicode non-character U+FDD3 is not recommended for open interchange in print at /home/TILDE.LV/arturs.stafanovics/gender-bias/tools/moses-scripts/scripts/training/clean-corpus-n.perl line 141, <E> line 23633033.\r\n",
      "......Unicode non-character U+FDD3 is not recommended for open interchange in print at /home/TILDE.LV/arturs.stafanovics/gender-bias/tools/moses-scripts/scripts/training/clean-corpus-n.perl line 141, <E> line 23695561.\r\n",
      ".(23700000)....Unicode non-character U+FDD3 is not recommended for open interchange in print at /home/TILDE.LV/arturs.stafanovics/gender-bias/tools/moses-scripts/scripts/training/clean-corpus-n.perl line 141, <E> line 23749847.\r\n",
      "Unicode non-character U+FDD3 is not recommended for open interchange in print at /home/TILDE.LV/arturs.stafanovics/gender-bias/tools/moses-scripts/scripts/training/clean-corpus-n.perl line 141, <E> line 23749848.\r\n",
      "Unicode non-character U+FDD3 is not recommended for open interchange in print at /home/TILDE.LV/arturs.stafanovics/gender-bias/tools/moses-scripts/scripts/training/clean-corpus-n.perl line 141, <E> line 23749849.\r\n",
      "....Unicode non-character U+FDD3 is not recommended for open interchange in print at /home/TILDE.LV/arturs.stafanovics/gender-bias/tools/moses-scripts/scripts/training/clean-corpus-n.perl line 141, <E> line 23787528.\r\n",
      "Unicode non-character U+FDD3 is not recommended for open interchange in print at /home/TILDE.LV/arturs.stafanovics/gender-bias/tools/moses-scripts/scripts/training/clean-corpus-n.perl line 141, <E> line 23787528.\r\n",
      "..(23800000)..........(23900000)....Unicode non-character U+FDD3 is not recommended for open interchange in print at /home/TILDE.LV/arturs.stafanovics/gender-bias/tools/moses-scripts/scripts/training/clean-corpus-n.perl line 141, <E> line 23941272.\r\n",
      "Unicode non-character U+FDD3 is not recommended for open interchange in print at /home/TILDE.LV/arturs.stafanovics/gender-bias/tools/moses-scripts/scripts/training/clean-corpus-n.perl line 141, <E> line 23941273.\r\n",
      "Unicode non-character U+FDD3 is not recommended for open interchange in print at /home/TILDE.LV/arturs.stafanovics/gender-bias/tools/moses-scripts/scripts/training/clean-corpus-n.perl line 141, <E> line 23941273.\r\n",
      "...Unicode non-character U+FDD3 is not recommended for open interchange in print at /home/TILDE.LV/arturs.stafanovics/gender-bias/tools/moses-scripts/scripts/training/clean-corpus-n.perl line 140, <E> line 23979691.\r\n",
      "...(24000000).Unicode non-character U+FDD3 is not recommended for open interchange in print at /home/TILDE.LV/arturs.stafanovics/gender-bias/tools/moses-scripts/scripts/training/clean-corpus-n.perl line 141, <E> line 24010632.\r\n",
      ".........(24100000)..........(24200000)..........(24300000)....Unicode non-character U+FDD3 is not recommended for open interchange in print at /home/TILDE.LV/arturs.stafanovics/gender-bias/tools/moses-scripts/scripts/training/clean-corpus-n.perl line 141, <E> line 24340529.\r\n",
      "......(24400000)..........(24500000)..........(24600000)Unicode non-character U+FDD3 is not recommended for open interchange in print at /home/TILDE.LV/arturs.stafanovics/gender-bias/tools/moses-scripts/scripts/training/clean-corpus-n.perl line 141, <E> line 24601256.\r\n",
      "Unicode non-character U+FDD3 is not recommended for open interchange in print at /home/TILDE.LV/arturs.stafanovics/gender-bias/tools/moses-scripts/scripts/training/clean-corpus-n.perl line 141, <E> line 24601256.\r\n",
      "..........(24700000)..........(24800000).......Unicode non-character U+FDD3 is not recommended for open interchange in print at /home/TILDE.LV/arturs.stafanovics/gender-bias/tools/moses-scripts/scripts/training/clean-corpus-n.perl line 141, <E> line 24876677.\r\n",
      "...(24900000).....Unicode non-character U+FDD3 is not recommended for open interchange in print at /home/TILDE.LV/arturs.stafanovics/gender-bias/tools/moses-scripts/scripts/training/clean-corpus-n.perl line 141, <E> line 24955134.\r\n",
      ".....(25000000).....Unicode non-character U+FDD3 is not recommended for open interchange in print at /home/TILDE.LV/arturs.stafanovics/gender-bias/tools/moses-scripts/scripts/training/clean-corpus-n.perl line 141, <E> line 25052087.\r\n",
      ".....(25100000)..........(25200000)..........(25300000)Unicode non-character U+FDD3 is not recommended for open interchange in print at /home/TILDE.LV/arturs.stafanovics/gender-bias/tools/moses-scripts/scripts/training/clean-corpus-n.perl line 140, <E> line 25305353.\r\n",
      ".........Unicode non-character U+FDD3 is not recommended for open interchange in print at /home/TILDE.LV/arturs.stafanovics/gender-bias/tools/moses-scripts/scripts/training/clean-corpus-n.perl line 141, <E> line 25390273.\r\n",
      ".(25400000)..........(25500000)..........(25600000)..........(25700000)..........(25800000)..........(25900000)..........(26000000)..........(26100000)..........(26200000)..........(26300000)..........(26400000)..........(26500000)..........(26600000)..........(26700000)..........(26800000)..........(26900000)..........(27000000)..........(27100000)..........(27200000)..........(27300000)..........(27400000)..........(27500000)..........(27600000)..........(27700000)..........(27800000)..........(27900000)..........(28000000)Unicode non-character U+FDD3 is not recommended for open interchange in print at /home/TILDE.LV/arturs.stafanovics/gender-bias/tools/moses-scripts/scripts/training/clean-corpus-n.perl line 141, <E> line 28004977.\r\n",
      "..........(28100000)..........(28200000)..........(28300000)..........(28400000)..........(28500000)..........(28600000)..........(28700000)..........(28800000)..........(28900000)..........(29000000)..........(29100000)..........(29200000)..........(29300000)..........(29400000)..........(29500000)..........(29600000)..........(29700000).Unicode non-character U+FDD3 is not recommended for open interchange in print at /home/TILDE.LV/arturs.stafanovics/gender-bias/tools/moses-scripts/scripts/training/clean-corpus-n.perl line 141, <E> line 29717659.\r\n",
      ".........(29800000).........Unicode non-character U+FDD3 is not recommended for open interchange in print at /home/TILDE.LV/arturs.stafanovics/gender-bias/tools/moses-scripts/scripts/training/clean-corpus-n.perl line 141, <E> line 29892631.\r\n",
      "Unicode non-character U+FDD3 is not recommended for open interchange in print at /home/TILDE.LV/arturs.stafanovics/gender-bias/tools/moses-scripts/scripts/training/clean-corpus-n.perl line 141, <E> line 29897520.\r\n",
      "Unicode non-character U+FDD3 is not recommended for open interchange in print at /home/TILDE.LV/arturs.stafanovics/gender-bias/tools/moses-scripts/scripts/training/clean-corpus-n.perl line 141, <E> line 29897521.\r\n",
      "Unicode non-character U+FDD3 is not recommended for open interchange in print at /home/TILDE.LV/arturs.stafanovics/gender-bias/tools/moses-scripts/scripts/training/clean-corpus-n.perl line 141, <E> line 29897522.\r\n",
      ".(29900000)..........(30000000)..........(30100000)..........(30200000)..........(30300000)..........(30400000)..........(30500000)...Unicode non-character U+FDD3 is not recommended for open interchange in print at /home/TILDE.LV/arturs.stafanovics/gender-bias/tools/moses-scripts/scripts/training/clean-corpus-n.perl line 141, <E> line 30532735.\r\n",
      ".......(30600000)......Unicode non-character U+FDD3 is not recommended for open interchange in print at /home/TILDE.LV/arturs.stafanovics/gender-bias/tools/moses-scripts/scripts/training/clean-corpus-n.perl line 141, <E> line 30660814.\r\n",
      "..Unicode non-character U+FDD3 is not recommended for open interchange in print at /home/TILDE.LV/arturs.stafanovics/gender-bias/tools/moses-scripts/scripts/training/clean-corpus-n.perl line 141, <E> line 30687779.\r\n",
      "..(30700000)..........(30800000)..........(30900000)..........(31000000)..........(31100000)..........(31200000)..........(31300000).Unicode non-character U+FDD3 is not recommended for open interchange in print at /home/TILDE.LV/arturs.stafanovics/gender-bias/tools/moses-scripts/scripts/training/clean-corpus-n.perl line 141, <E> line 31312726.\r\n",
      ".........(31400000)..........(31500000)..Unicode non-character U+FDD3 is not recommended for open interchange in print at /home/TILDE.LV/arturs.stafanovics/gender-bias/tools/moses-scripts/scripts/training/clean-corpus-n.perl line 141, <E> line 31526226.\r\n",
      "Unicode non-character U+FDD3 is not recommended for open interchange in print at /home/TILDE.LV/arturs.stafanovics/gender-bias/tools/moses-scripts/scripts/training/clean-corpus-n.perl line 141, <E> line 31526268.\r\n",
      "Unicode non-character U+FDD3 is not recommended for open interchange in print at /home/TILDE.LV/arturs.stafanovics/gender-bias/tools/moses-scripts/scripts/training/clean-corpus-n.perl line 141, <E> line 31526302.\r\n",
      "Unicode non-character U+FDD3 is not recommended for open interchange in print at /home/TILDE.LV/arturs.stafanovics/gender-bias/tools/moses-scripts/scripts/training/clean-corpus-n.perl line 141, <E> line 31526302.\r\n",
      "Unicode non-character U+FDD3 is not recommended for open interchange in print at /home/TILDE.LV/arturs.stafanovics/gender-bias/tools/moses-scripts/scripts/training/clean-corpus-n.perl line 141, <E> line 31526322.\r\n",
      "........(31600000)..........(31700000)..........(31800000)..........(31900000)..........(32000000)..........(32100000)..........(32200000)..........(32300000)..........(32400000)..........(32500000)..........(32600000)..........(32700000)......Unicode non-character U+FDD3 is not recommended for open interchange in print at /home/TILDE.LV/arturs.stafanovics/gender-bias/tools/moses-scripts/scripts/training/clean-corpus-n.perl line 141, <E> line 32764067.\r\n",
      "....(32800000).Unicode non-character U+FDD3 is not recommended for open interchange in print at /home/TILDE.LV/arturs.stafanovics/gender-bias/tools/moses-scripts/scripts/training/clean-corpus-n.perl line 141, <E> line 32819392.\r\n",
      ".........(32900000)..........(33000000)Unicode non-character U+FDD3 is not recommended for open interchange in print at /home/TILDE.LV/arturs.stafanovics/gender-bias/tools/moses-scripts/scripts/training/clean-corpus-n.perl line 141, <E> line 33009064.\r\n",
      ".........Unicode non-character U+FDD3 is not recommended for open interchange in print at /home/TILDE.LV/arturs.stafanovics/gender-bias/tools/moses-scripts/scripts/training/clean-corpus-n.perl line 141, <E> line 33092988.\r\n",
      "Unicode non-character U+FDD3 is not recommended for open interchange in print at /home/TILDE.LV/arturs.stafanovics/gender-bias/tools/moses-scripts/scripts/training/clean-corpus-n.perl line 140, <E> line 33096071.\r\n",
      ".(33100000).Unicode non-character U+FDD3 is not recommended for open interchange in print at /home/TILDE.LV/arturs.stafanovics/gender-bias/tools/moses-scripts/scripts/training/clean-corpus-n.perl line 140, <E> line 33117302.\r\n",
      "Unicode non-character U+FDD3 is not recommended for open interchange in print at /home/TILDE.LV/arturs.stafanovics/gender-bias/tools/moses-scripts/scripts/training/clean-corpus-n.perl line 140, <E> line 33118104.\r\n",
      ".........(33200000).........Unicode non-character U+FDD3 is not recommended for open interchange in print at /home/TILDE.LV/arturs.stafanovics/gender-bias/tools/moses-scripts/scripts/training/clean-corpus-n.perl line 141, <E> line 33297544.\r\n",
      ".(33300000)..........(33400000)Unicode non-character U+FDD3 is not recommended for open interchange in print at /home/TILDE.LV/arturs.stafanovics/gender-bias/tools/moses-scripts/scripts/training/clean-corpus-n.perl line 141, <E> line 33409500.\r\n",
      "..........(33500000)......Unicode non-character U+FDD3 is not recommended for open interchange in print at /home/TILDE.LV/arturs.stafanovics/gender-bias/tools/moses-scripts/scripts/training/clean-corpus-n.perl line 141, <E> line 33566025.\r\n",
      "....(33600000).Unicode non-character U+FDD3 is not recommended for open interchange in print at /home/TILDE.LV/arturs.stafanovics/gender-bias/tools/moses-scripts/scripts/training/clean-corpus-n.perl line 141, <E> line 33618806.\r\n",
      ".........(33700000).......Unicode non-character U+FDD3 is not recommended for open interchange in print at /home/TILDE.LV/arturs.stafanovics/gender-bias/tools/moses-scripts/scripts/training/clean-corpus-n.perl line 141, <E> line 33772337.\r\n",
      "...(33800000).......Unicode non-character U+FDD3 is not recommended for open interchange in print at /home/TILDE.LV/arturs.stafanovics/gender-bias/tools/moses-scripts/scripts/training/clean-corpus-n.perl line 141, <E> line 33871191.\r\n",
      "...(33900000)..........(34000000)..........(34100000)..........(34200000).....Unicode non-character U+FDD3 is not recommended for open interchange in print at /home/TILDE.LV/arturs.stafanovics/gender-bias/tools/moses-scripts/scripts/training/clean-corpus-n.perl line 140, <E> line 34252355.\r\n",
      "Unicode non-character U+FDD3 is not recommended for open interchange in print at /home/TILDE.LV/arturs.stafanovics/gender-bias/tools/moses-scripts/scripts/training/clean-corpus-n.perl line 140, <E> line 34252486.\r\n",
      ".....(34300000)..........(34400000)..........(34500000)..........(34600000)..........(34700000)..........(34800000)..........(34900000)..........(35000000)..........(35100000)..........(35200000)......Unicode non-character U+FDD3 is not recommended for open interchange in print at /home/TILDE.LV/arturs.stafanovics/gender-bias/tools/moses-scripts/scripts/training/clean-corpus-n.perl line 141, <E> line 35267323.\r\n",
      "....(35300000)..........(35400000)..........(35500000)..........(35600000)..........(35700000)..........(35800000)..........(35900000)..........(36000000)..........(36100000)..........(36200000)..........(36300000)..........(36400000)..........(36500000)..........(36600000)..........(36700000)..........(36800000)..........(36900000)..........(37000000)..........(37100000)..........(37200000)..........(37300000)..........(37400000)..........(37500000)..........(37600000)..........(37700000)..........(37800000)..........(37900000)..........(38000000)..Unicode non-character U+FDD3 is not recommended for open interchange in print at /home/TILDE.LV/arturs.stafanovics/gender-bias/tools/moses-scripts/scripts/training/clean-corpus-n.perl line 141, <E> line 38026441.\r\n",
      "........(38100000)..........(38200000)..........(38300000)..........(38400000)..........(38500000)..........(38600000)..........(38700000)......Unicode non-character U+FDD3 is not recommended for open interchange in print at /home/TILDE.LV/arturs.stafanovics/gender-bias/tools/moses-scripts/scripts/training/clean-corpus-n.perl line 141, <E> line 38764463.\r\n",
      ".Unicode non-character U+FDD3 is not recommended for open interchange in print at /home/TILDE.LV/arturs.stafanovics/gender-bias/tools/moses-scripts/scripts/training/clean-corpus-n.perl line 141, <E> line 38770750.\r\n",
      "...(38800000)..........(38900000)..........(39000000)..........(39100000)..........(39200000)..........(39300000)..........(39400000)..........(39500000)..........(39600000)..........(39700000)..........(39800000)..........(39900000)..........(40000000)..........(40100000)..........(40200000)..........(40300000)..........(40400000)..........(40500000)..........(40600000)........Unicode non-character U+FDD3 is not recommended for open interchange in print at /home/TILDE.LV/arturs.stafanovics/gender-bias/tools/moses-scripts/scripts/training/clean-corpus-n.perl line 141, <E> line 40681452.\r\n",
      "..(40700000)..........(40800000).....\r\n",
      "Input sentences: 40859321  Output sentences:  39050770\r\n"
     ]
    }
   ],
   "source": [
    "# Tokenize corpus\n",
    "for file in ('develop', 'corpus'):\n",
    "    for lang in ('fr', 'en'):\n",
    "        in_file = FRENCH_DATA_DIR / f'{file}.{lang}'\n",
    "        out_file = FRENCH_DATA_DIR / f'{file}.tok.{lang}'\n",
    "        ! cat {in_file} | {NORMALIZE_PUNCTUATION} -l {lang} | {TOKENIZER} -q -a -l {lang} >{out_file} 2> /dev/null\n",
    "\n",
    "# Clean corpus\n",
    "! {CLEAN_CORPUS} {FRENCH_DATA_DIR / 'corpus.tok'} en fr {FRENCH_DATA_DIR / 'corpus.clean'} 1 80 {FRENCH_DATA_DIR / 'corpus.retained'}\n",
    "! {CLEAN_CORPUS} {FRENCH_DATA_DIR / 'develop.tok'} en fr {FRENCH_DATA_DIR / 'develop.clean'} 1 80 {FRENCH_DATA_DIR / 'develop.retained'}"
   ],
   "metadata": {
    "collapsed": false,
    "pycharm": {
     "name": "#%%\n"
    }
   }
  },
  {
   "cell_type": "code",
   "execution_count": null,
   "outputs": [],
   "source": [
    "# Train truecase\n",
    "for lang in ('fr', 'en'):\n",
    "    truecase_model = PROJECT_ROOT / 'models' / f'truecase-model.{lang}'\n",
    "    corpus = FRENCH_DATA_DIR / f'corpus.tok.{lang}'\n",
    "    ! {TRAIN_TRUECASER} -model {truecase_model} -corpus {corpus}"
   ],
   "metadata": {
    "collapsed": false,
    "pycharm": {
     "name": "#%%\n",
     "is_executing": true
    }
   }
  },
  {
   "cell_type": "code",
   "execution_count": 11,
   "outputs": [],
   "source": [
    "# Apply truecase\n",
    "for file in ('develop', 'corpus'):\n",
    "    for lang in ('fr', 'en'):\n",
    "        corpus_in = FRENCH_DATA_DIR / f'{file}.clean.{lang}'\n",
    "        corpus_out = FRENCH_DATA_DIR / f'{file}.tc.{lang}'\n",
    "        truecase_model = PROJECT_ROOT / 'models' / f'truecase-model.{lang}'\n",
    "        ! {TRUECASE} < {corpus_in} > {corpus_out} -model {truecase_model}"
   ],
   "metadata": {
    "collapsed": false,
    "pycharm": {
     "name": "#%%\n"
    }
   }
  },
  {
   "cell_type": "code",
   "execution_count": null,
   "outputs": [],
   "source": [
    "\n"
   ],
   "metadata": {
    "collapsed": false,
    "pycharm": {
     "name": "#%%\n"
    }
   }
  }
 ],
 "metadata": {
  "kernelspec": {
   "name": "python3",
   "language": "python",
   "display_name": "Python 3"
  },
  "language_info": {
   "codemirror_mode": {
    "name": "ipython",
    "version": 2
   },
   "file_extension": ".py",
   "mimetype": "text/x-python",
   "name": "python",
   "nbconvert_exporter": "python",
   "pygments_lexer": "ipython2",
   "version": "2.7.6"
  }
 },
 "nbformat": 4,
 "nbformat_minor": 0
}